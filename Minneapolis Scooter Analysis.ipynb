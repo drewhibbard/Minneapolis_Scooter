{
 "cells": [
  {
   "cell_type": "markdown",
   "metadata": {},
   "source": [
    "# Minneapolis Scooter Analysis"
   ]
  },
  {
   "cell_type": "markdown",
   "metadata": {},
   "source": [
    "One of the more fun datasets in the [Minneapolis Open Data](http://opendata.minneapolismn.gov/) project is the scooter data.  It doesn't have a whole lot to work with, but is still certainly interesting to see trends and patterns in scooter rides.  Let's have a look!"
   ]
  },
  {
   "cell_type": "code",
   "execution_count": 1,
   "metadata": {},
   "outputs": [],
   "source": [
    "import numpy as np\n",
    "import pandas as pd\n",
    "import matplotlib.pyplot as plt\n",
    "import seaborn as sns\n",
    "%matplotlib inline"
   ]
  },
  {
   "cell_type": "code",
   "execution_count": 2,
   "metadata": {},
   "outputs": [],
   "source": [
    "trips = {}\n",
    "for sheet in range(7):\n",
    "    trips[sheet] = pd.read_excel('Scooter_Trips.xlsx',sheet_name=sheet)"
   ]
  },
  {
   "cell_type": "code",
   "execution_count": 5,
   "metadata": {},
   "outputs": [],
   "source": [
    "scooter = pd.concat([trips[0],trips[1],trips[2],trips[3],trips[4],trips[5],trips[6]])"
   ]
  },
  {
   "cell_type": "code",
   "execution_count": 6,
   "metadata": {},
   "outputs": [
    {
     "data": {
      "text/html": [
       "<div>\n",
       "<style scoped>\n",
       "    .dataframe tbody tr th:only-of-type {\n",
       "        vertical-align: middle;\n",
       "    }\n",
       "\n",
       "    .dataframe tbody tr th {\n",
       "        vertical-align: top;\n",
       "    }\n",
       "\n",
       "    .dataframe thead th {\n",
       "        text-align: right;\n",
       "    }\n",
       "</style>\n",
       "<table border=\"1\" class=\"dataframe\">\n",
       "  <thead>\n",
       "    <tr style=\"text-align: right;\">\n",
       "      <th></th>\n",
       "      <th>FID</th>\n",
       "      <th>TripID</th>\n",
       "      <th>TripDuration</th>\n",
       "      <th>TripDistance</th>\n",
       "      <th>StartTime</th>\n",
       "      <th>EndTime</th>\n",
       "      <th>StartCenterlineID</th>\n",
       "      <th>StartCenterlineType</th>\n",
       "      <th>EndCenterlineID</th>\n",
       "      <th>EndCenterlineType</th>\n",
       "      <th>ObjectId</th>\n",
       "    </tr>\n",
       "  </thead>\n",
       "  <tbody>\n",
       "    <tr>\n",
       "      <th>0</th>\n",
       "      <td>1.0</td>\n",
       "      <td>1047</td>\n",
       "      <td>2866</td>\n",
       "      <td>9521</td>\n",
       "      <td>2019-05-13 20:29:59</td>\n",
       "      <td>2019-05-13 21:00:00</td>\n",
       "      <td>NaN</td>\n",
       "      <td>trail</td>\n",
       "      <td>NaN</td>\n",
       "      <td>trail</td>\n",
       "      <td>NaN</td>\n",
       "    </tr>\n",
       "    <tr>\n",
       "      <th>1</th>\n",
       "      <td>2.0</td>\n",
       "      <td>1053</td>\n",
       "      <td>1387</td>\n",
       "      <td>5753</td>\n",
       "      <td>2019-05-13 20:29:59</td>\n",
       "      <td>2019-05-13 21:00:00</td>\n",
       "      <td>17242</td>\n",
       "      <td>street</td>\n",
       "      <td>11720</td>\n",
       "      <td>street</td>\n",
       "      <td>NaN</td>\n",
       "    </tr>\n",
       "    <tr>\n",
       "      <th>2</th>\n",
       "      <td>3.0</td>\n",
       "      <td>1060</td>\n",
       "      <td>962</td>\n",
       "      <td>1630</td>\n",
       "      <td>2019-05-13 20:29:59</td>\n",
       "      <td>2019-05-13 21:00:00</td>\n",
       "      <td>19502</td>\n",
       "      <td>street</td>\n",
       "      <td>17104</td>\n",
       "      <td>street</td>\n",
       "      <td>NaN</td>\n",
       "    </tr>\n",
       "    <tr>\n",
       "      <th>3</th>\n",
       "      <td>4.0</td>\n",
       "      <td>1048</td>\n",
       "      <td>423</td>\n",
       "      <td>2149</td>\n",
       "      <td>2019-05-13 20:29:59</td>\n",
       "      <td>2019-05-13 20:29:59</td>\n",
       "      <td>18092</td>\n",
       "      <td>street</td>\n",
       "      <td>15446</td>\n",
       "      <td>street</td>\n",
       "      <td>NaN</td>\n",
       "    </tr>\n",
       "    <tr>\n",
       "      <th>4</th>\n",
       "      <td>5.0</td>\n",
       "      <td>1042</td>\n",
       "      <td>3813</td>\n",
       "      <td>6943</td>\n",
       "      <td>2019-05-13 20:29:59</td>\n",
       "      <td>2019-05-13 21:30:00</td>\n",
       "      <td>18617</td>\n",
       "      <td>street</td>\n",
       "      <td>NaN</td>\n",
       "      <td>trail</td>\n",
       "      <td>NaN</td>\n",
       "    </tr>\n",
       "  </tbody>\n",
       "</table>\n",
       "</div>"
      ],
      "text/plain": [
       "   FID  TripID  TripDuration  TripDistance            StartTime  \\\n",
       "0  1.0    1047          2866          9521  2019-05-13 20:29:59   \n",
       "1  2.0    1053          1387          5753  2019-05-13 20:29:59   \n",
       "2  3.0    1060           962          1630  2019-05-13 20:29:59   \n",
       "3  4.0    1048           423          2149  2019-05-13 20:29:59   \n",
       "4  5.0    1042          3813          6943  2019-05-13 20:29:59   \n",
       "\n",
       "               EndTime StartCenterlineID StartCenterlineType EndCenterlineID  \\\n",
       "0  2019-05-13 21:00:00               NaN               trail             NaN   \n",
       "1  2019-05-13 21:00:00             17242              street           11720   \n",
       "2  2019-05-13 21:00:00             19502              street           17104   \n",
       "3  2019-05-13 20:29:59             18092              street           15446   \n",
       "4  2019-05-13 21:30:00             18617              street             NaN   \n",
       "\n",
       "  EndCenterlineType  ObjectId  \n",
       "0             trail       NaN  \n",
       "1            street       NaN  \n",
       "2            street       NaN  \n",
       "3            street       NaN  \n",
       "4             trail       NaN  "
      ]
     },
     "execution_count": 6,
     "metadata": {},
     "output_type": "execute_result"
    }
   ],
   "source": [
    "scooter.head()"
   ]
  },
  {
   "cell_type": "code",
   "execution_count": 7,
   "metadata": {},
   "outputs": [
    {
     "data": {
      "text/plain": [
       "FID                    float64\n",
       "TripID                   int64\n",
       "TripDuration             int64\n",
       "TripDistance             int64\n",
       "StartTime               object\n",
       "EndTime                 object\n",
       "StartCenterlineID       object\n",
       "StartCenterlineType     object\n",
       "EndCenterlineID         object\n",
       "EndCenterlineType       object\n",
       "ObjectId               float64\n",
       "dtype: object"
      ]
     },
     "execution_count": 7,
     "metadata": {},
     "output_type": "execute_result"
    }
   ],
   "source": [
    "scooter.dtypes"
   ]
  },
  {
   "cell_type": "code",
   "execution_count": 13,
   "metadata": {},
   "outputs": [],
   "source": [
    "scooter['StartTime'] = pd.to_datetime(scooter['StartTime'],format='%Y-%m-%d %H:%M:%S',errors='coerce')\n",
    "scooter['EndTime'] = pd.to_datetime(scooter['EndTime'],format='%Y-%m-%d %H:%M:%S',errors='coerce')"
   ]
  },
  {
   "cell_type": "code",
   "execution_count": 14,
   "metadata": {},
   "outputs": [
    {
     "data": {
      "text/plain": [
       "FID                           float64\n",
       "TripID                          int64\n",
       "TripDuration                    int64\n",
       "TripDistance                    int64\n",
       "StartTime              datetime64[ns]\n",
       "EndTime                datetime64[ns]\n",
       "StartCenterlineID              object\n",
       "StartCenterlineType            object\n",
       "EndCenterlineID                object\n",
       "EndCenterlineType              object\n",
       "ObjectId                      float64\n",
       "dtype: object"
      ]
     },
     "execution_count": 14,
     "metadata": {},
     "output_type": "execute_result"
    }
   ],
   "source": [
    "scooter.dtypes"
   ]
  },
  {
   "cell_type": "code",
   "execution_count": 15,
   "metadata": {},
   "outputs": [],
   "source": [
    "scooter['month'] = scooter['StartTime'].dt.month\n",
    "scooter['hour'] = scooter['StartTime'].dt.hour"
   ]
  },
  {
   "cell_type": "code",
   "execution_count": 43,
   "metadata": {},
   "outputs": [
    {
     "data": {
      "text/plain": [
       "Text(0.5, 1.0, 'Number of Rides per Month')"
      ]
     },
     "execution_count": 43,
     "metadata": {},
     "output_type": "execute_result"
    },
    {
     "data": {
      "image/png": "[encoded data removed]",
      "text/plain": [
       "<Figure size 432x288 with 1 Axes>"
      ]
     },
     "metadata": {
      "needs_background": "light"
     },
     "output_type": "display_data"
    }
   ],
   "source": [
    "plt.plot(scooter.groupby('month')['TripID'].count())\n",
    "plt.xlabel('Month')\n",
    "plt.ylabel('Number of Rides')\n",
    "plt.title('Number of Rides per Month')"
   ]
  },
  {
   "cell_type": "code",
   "execution_count": 44,
   "metadata": {},
   "outputs": [
    {
     "data": {
      "text/plain": [
       "Text(0.5, 1.0, 'Number of Rides by Time of Day')"
      ]
     },
     "execution_count": 44,
     "metadata": {},
     "output_type": "execute_result"
    },
    {
     "data": {
      "image/png": "[encoded data removed]",
      "text/plain": [
       "<Figure size 432x288 with 1 Axes>"
      ]
     },
     "metadata": {
      "needs_background": "light"
     },
     "output_type": "display_data"
    }
   ],
   "source": [
    "plt.plot(scooter.groupby('hour')['TripID'].count())\n",
    "plt.xlabel('Hour of Day')\n",
    "plt.ylabel('Number of Rides')\n",
    "plt.title('Number of Rides by Time of Day')"
   ]
  },
  {
   "cell_type": "code",
   "execution_count": 23,
   "metadata": {},
   "outputs": [],
   "source": [
    "#convert trip duration from seconds to minutes\n",
    "scooter['TripDuration'] = scooter['TripDuration']/60\n",
    "#convert trip distance from meters (I think) to miles\n",
    "scooter['TripDistance'] = scooter['TripDistance']/1000*.62137"
   ]
  },
  {
   "cell_type": "markdown",
   "metadata": {},
   "source": [
    "Let's check the stats on trip duration."
   ]
  },
  {
   "cell_type": "code",
   "execution_count": 25,
   "metadata": {},
   "outputs": [
    {
     "data": {
      "text/plain": [
       "count   1040551.0\n",
       "mean         13.8\n",
       "std          18.6\n",
       "min         -13.0\n",
       "25%           4.5\n",
       "50%           7.7\n",
       "75%          15.3\n",
       "max         419.8\n",
       "Name: TripDuration, dtype: float64"
      ]
     },
     "execution_count": 25,
     "metadata": {},
     "output_type": "execute_result"
    }
   ],
   "source": [
    "pd.set_option('display.float_format', lambda x: '%.1f' % x)\n",
    "scooter.describe()['TripDuration']"
   ]
  },
  {
   "cell_type": "markdown",
   "metadata": {},
   "source": [
    "Interesting stuff here.  Average ride of about 14 minutes with a maximum of 7 hours.  Clearly someone forgot to \"end ride\"!\n",
    "\n",
    "Okay what about trip distance?"
   ]
  },
  {
   "cell_type": "code",
   "execution_count": 26,
   "metadata": {},
   "outputs": [
    {
     "data": {
      "text/plain": [
       "count   1040551.0\n",
       "mean          1.1\n",
       "std           1.2\n",
       "min           0.0\n",
       "25%           0.4\n",
       "50%           0.7\n",
       "75%           1.4\n",
       "max          24.0\n",
       "Name: TripDistance, dtype: float64"
      ]
     },
     "execution_count": 26,
     "metadata": {},
     "output_type": "execute_result"
    }
   ],
   "source": [
    "scooter.describe()['TripDistance']"
   ]
  },
  {
   "cell_type": "markdown",
   "metadata": {},
   "source": [
    "Or maybe the person did ride for 7 hours and they made it 24 miles in that time, who knows.  The average ride is 1.1 miles.  That seems about right.\n",
    "\n",
    "There is a field that tells us if the ride is on a street or trail.  Let's check out the distribution of that data."
   ]
  },
  {
   "cell_type": "code",
   "execution_count": 41,
   "metadata": {},
   "outputs": [
    {
     "data": {
      "text/plain": [
       "StartCenterlineType\n",
       "street    917273\n",
       "trail     123278\n",
       "Name: TripID, dtype: int64"
      ]
     },
     "execution_count": 41,
     "metadata": {},
     "output_type": "execute_result"
    }
   ],
   "source": [
    "scooter.groupby('StartCenterlineType')['TripID'].count()"
   ]
  },
  {
   "cell_type": "markdown",
   "metadata": {},
   "source": [
    "I'm curious to see average speed on these rides.  Let's calculate miles per hour."
   ]
  },
  {
   "cell_type": "code",
   "execution_count": 47,
   "metadata": {},
   "outputs": [],
   "source": [
    "scooter['mph'] = scooter['TripDistance']/(scooter['TripDuration']/60)"
   ]
  },
  {
   "cell_type": "code",
   "execution_count": 48,
   "metadata": {},
   "outputs": [
    {
     "data": {
      "text/plain": [
       "count   1040551.0\n",
       "mean          6.0\n",
       "std           4.0\n",
       "min        -582.9\n",
       "25%           3.7\n",
       "50%           6.0\n",
       "75%           8.1\n",
       "max         688.2\n",
       "Name: mph, dtype: float64"
      ]
     },
     "execution_count": 48,
     "metadata": {},
     "output_type": "execute_result"
    }
   ],
   "source": [
    "scooter.describe()['mph']"
   ]
  },
  {
   "cell_type": "markdown",
   "metadata": {},
   "source": [
    "I'm extremely impressed with the people who managed to go -582 and 688 miles per hour.  \n",
    "\n",
    "Mean of 6 mph and standard deviation of 4 mph seems about right.  These things have a max speed of 15-20 mph.\n",
    "\n",
    "Another piece of this data is the breakdown of scooter availability by scooter company and neighborhood.  Unfortunately I don't see a way to tie an individual ride to either of these data points, but we can see aggregated totals of available scooters by company and neighborhood of Minneapolis."
   ]
  },
  {
   "cell_type": "code",
   "execution_count": 32,
   "metadata": {},
   "outputs": [],
   "source": [
    "supply = pd.read_csv('Scooter_Availability.csv')"
   ]
  },
  {
   "cell_type": "code",
   "execution_count": 33,
   "metadata": {},
   "outputs": [
    {
     "data": {
      "text/html": [
       "<div>\n",
       "<style scoped>\n",
       "    .dataframe tbody tr th:only-of-type {\n",
       "        vertical-align: middle;\n",
       "    }\n",
       "\n",
       "    .dataframe tbody tr th {\n",
       "        vertical-align: top;\n",
       "    }\n",
       "\n",
       "    .dataframe thead th {\n",
       "        text-align: right;\n",
       "    }\n",
       "</style>\n",
       "<table border=\"1\" class=\"dataframe\">\n",
       "  <thead>\n",
       "    <tr style=\"text-align: right;\">\n",
       "      <th></th>\n",
       "      <th>FID</th>\n",
       "      <th>PollTime</th>\n",
       "      <th>CompanyName</th>\n",
       "      <th>NumberAvailable</th>\n",
       "      <th>ClosestCenterlineID</th>\n",
       "      <th>ClosestCenterlineType</th>\n",
       "      <th>Neighborhood</th>\n",
       "    </tr>\n",
       "  </thead>\n",
       "  <tbody>\n",
       "    <tr>\n",
       "      <th>0</th>\n",
       "      <td>1</td>\n",
       "      <td>2019/05/17 08:00:00</td>\n",
       "      <td>Lime</td>\n",
       "      <td>1</td>\n",
       "      <td>18282.0</td>\n",
       "      <td>street</td>\n",
       "      <td>Cleveland</td>\n",
       "    </tr>\n",
       "    <tr>\n",
       "      <th>1</th>\n",
       "      <td>2</td>\n",
       "      <td>2019/05/17 08:00:00</td>\n",
       "      <td>Lime</td>\n",
       "      <td>2</td>\n",
       "      <td>20748.0</td>\n",
       "      <td>street</td>\n",
       "      <td>Sheridan</td>\n",
       "    </tr>\n",
       "    <tr>\n",
       "      <th>2</th>\n",
       "      <td>3</td>\n",
       "      <td>2019/05/17 08:00:00</td>\n",
       "      <td>Lime</td>\n",
       "      <td>1</td>\n",
       "      <td>21914.0</td>\n",
       "      <td>street</td>\n",
       "      <td>Midtown Phillips</td>\n",
       "    </tr>\n",
       "    <tr>\n",
       "      <th>3</th>\n",
       "      <td>4</td>\n",
       "      <td>2019/05/17 08:00:00</td>\n",
       "      <td>Lime</td>\n",
       "      <td>1</td>\n",
       "      <td>10464.0</td>\n",
       "      <td>street</td>\n",
       "      <td>Lind - Bohanon</td>\n",
       "    </tr>\n",
       "    <tr>\n",
       "      <th>4</th>\n",
       "      <td>5</td>\n",
       "      <td>2019/05/17 08:00:00</td>\n",
       "      <td>Lime</td>\n",
       "      <td>1</td>\n",
       "      <td>11499.0</td>\n",
       "      <td>street</td>\n",
       "      <td>Como</td>\n",
       "    </tr>\n",
       "  </tbody>\n",
       "</table>\n",
       "</div>"
      ],
      "text/plain": [
       "   FID             PollTime CompanyName  NumberAvailable  ClosestCenterlineID  \\\n",
       "0    1  2019/05/17 08:00:00        Lime                1              18282.0   \n",
       "1    2  2019/05/17 08:00:00        Lime                2              20748.0   \n",
       "2    3  2019/05/17 08:00:00        Lime                1              21914.0   \n",
       "3    4  2019/05/17 08:00:00        Lime                1              10464.0   \n",
       "4    5  2019/05/17 08:00:00        Lime                1              11499.0   \n",
       "\n",
       "  ClosestCenterlineType      Neighborhood  \n",
       "0                street         Cleveland  \n",
       "1                street          Sheridan  \n",
       "2                street  Midtown Phillips  \n",
       "3                street    Lind - Bohanon  \n",
       "4                street              Como  "
      ]
     },
     "execution_count": 33,
     "metadata": {},
     "output_type": "execute_result"
    }
   ],
   "source": [
    "supply.head()"
   ]
  },
  {
   "cell_type": "code",
   "execution_count": 42,
   "metadata": {},
   "outputs": [
    {
     "data": {
      "text/plain": [
       "CompanyName\n",
       "Lime    617706\n",
       "Lyft    203578\n",
       "Spin    279206\n",
       "Name: NumberAvailable, dtype: int64"
      ]
     },
     "execution_count": 42,
     "metadata": {},
     "output_type": "execute_result"
    }
   ],
   "source": [
    "supply.groupby('CompanyName')['NumberAvailable'].sum()\n"
   ]
  },
  {
   "cell_type": "markdown",
   "metadata": {},
   "source": [
    "Bird was banned at some point in the city of Minneapolis otherwise they likely would have gotten second place based on personal experience.\n",
    "\n",
    "And what about neighborhoods?"
   ]
  },
  {
   "cell_type": "code",
   "execution_count": 49,
   "metadata": {},
   "outputs": [
    {
     "data": {
      "text/plain": [
       "Neighborhood\n",
       "Downtown West               136050\n",
       "Marcy Holmes                 91214\n",
       "University of Minnesota      66801\n",
       "Cedar Riverside              52683\n",
       "North Loop                   49052\n",
       "                             ...  \n",
       "Morris Park                    339\n",
       "Kenny                          263\n",
       "Page                           196\n",
       "Camden Industrial              135\n",
       "Humboldt Industrial Area        82\n",
       "Name: NumberAvailable, Length: 87, dtype: int64"
      ]
     },
     "execution_count": 49,
     "metadata": {},
     "output_type": "execute_result"
    }
   ],
   "source": [
    "supply.groupby('Neighborhood')['NumberAvailable'].sum().sort_values(ascending=False)"
   ]
  },
  {
   "cell_type": "markdown",
   "metadata": {},
   "source": [
    "Naturally downtown and the surrounding areas, including the UMN campus, are the hotspots.  I can confirm that during this timeframe the streets of downtown were littered with scooters."
   ]
  },
  {
   "cell_type": "code",
   "execution_count": null,
   "metadata": {},
   "outputs": [],
   "source": []
  }
 ],
 "metadata": {
  "kernelspec": {
   "display_name": "Python 3",
   "language": "python",
   "name": "python3"
  },
  "language_info": {
   "codemirror_mode": {
    "name": "ipython",
    "version": 3
   },
   "file_extension": ".py",
   "mimetype": "text/x-python",
   "name": "python",
   "nbconvert_exporter": "python",
   "pygments_lexer": "ipython3",
   "version": "3.7.6"
  }
 },
 "nbformat": 4,
 "nbformat_minor": 4
}
